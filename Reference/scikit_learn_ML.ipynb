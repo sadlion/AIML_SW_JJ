{
  "nbformat": 4,
  "nbformat_minor": 0,
  "metadata": {
    "colab": {
      "name": "scikit-learn_ML.ipynb",
      "provenance": [],
      "collapsed_sections": []
    },
    "kernelspec": {
      "name": "python3",
      "display_name": "Python 3"
    }
  },
  "cells": [
    {
      "cell_type": "markdown",
      "metadata": {
        "id": "5sW5MbgORctc"
      },
      "source": [
        "# Title : 사이킷런을 이용하여 붓꽃(Iris) 데이터 품종 예측하기\n",
        "\n",
        "- 순서\n",
        "  - 라이브러리 호출\n",
        "  - 데이터세트 호출\n",
        "  - *EDA (Exploratory Data Analysis)*\n",
        "  - *Feature Engineering*\n",
        "  - 모델 알고리즘 선택 및 생성, 학습\n",
        "  - 학습 변수 저장\n",
        "  - 학습 변수 호출\n",
        "  - 모델 예측\n",
        "  - *결과 분석*"
      ]
    },
    {
      "cell_type": "code",
      "metadata": {
        "id": "Z3Tg9frxRX4_"
      },
      "source": [
        "# 라이브러리 호출\n",
        "\n",
        "from sklearn.datasets import load_iris\n",
        "from sklearn.tree import DecisionTreeClassifier\n",
        "from sklearn.model_selection import train_test_split"
      ],
      "execution_count": null,
      "outputs": []
    },
    {
      "cell_type": "code",
      "metadata": {
        "id": "AdQQFfSsRmlc"
      },
      "source": [
        "# Dataset 호출"
      ],
      "execution_count": null,
      "outputs": []
    },
    {
      "cell_type": "code",
      "metadata": {
        "id": "yc6Eh8kaRpiJ"
      },
      "source": [
        "# DataFrame 구성"
      ],
      "execution_count": null,
      "outputs": []
    },
    {
      "cell_type": "code",
      "metadata": {
        "id": "Fdm4e0yxR5Y2"
      },
      "source": [
        "# Data shape  확인"
      ],
      "execution_count": null,
      "outputs": []
    },
    {
      "cell_type": "code",
      "metadata": {
        "id": "AOdDj68tSAUO"
      },
      "source": [
        "#%whos 로 생성된 변수 알아보기"
      ],
      "execution_count": null,
      "outputs": []
    },
    {
      "cell_type": "code",
      "metadata": {
        "id": "B2xPreciSLD0"
      },
      "source": [
        "#DataFramework info()"
      ],
      "execution_count": null,
      "outputs": []
    },
    {
      "cell_type": "code",
      "metadata": {
        "id": "0FHavOETSSnB"
      },
      "source": [
        "#DataFramework describe()"
      ],
      "execution_count": null,
      "outputs": []
    },
    {
      "cell_type": "code",
      "metadata": {
        "id": "t6M4WLGcSaRw"
      },
      "source": [
        "#알고리즘 생성 및 학습\n",
        "#DecisionTreeClassifier 생성 및 학습"
      ],
      "execution_count": null,
      "outputs": []
    },
    {
      "cell_type": "code",
      "metadata": {
        "id": "k0KcXmLJTIfR"
      },
      "source": [
        "#Save Model\n",
        "#변수 저장\n",
        "#파일 저장"
      ],
      "execution_count": null,
      "outputs": []
    },
    {
      "cell_type": "code",
      "metadata": {
        "id": "l3NDQjjETMce"
      },
      "source": [
        "#Load Model"
      ],
      "execution_count": null,
      "outputs": []
    },
    {
      "cell_type": "code",
      "metadata": {
        "id": "rAux5be1Si39"
      },
      "source": [
        "#학습이 완료된 모델에 테스트 테이터로 예측 수행"
      ],
      "execution_count": null,
      "outputs": []
    },
    {
      "cell_type": "code",
      "metadata": {
        "id": "xrcHEZCPSpV2"
      },
      "source": [
        "#Vizulaization : GraphViz"
      ],
      "execution_count": null,
      "outputs": []
    },
    {
      "cell_type": "code",
      "metadata": {
        "id": "KMCof6knSznT"
      },
      "source": [
        "#"
      ],
      "execution_count": null,
      "outputs": []
    }
  ]
}