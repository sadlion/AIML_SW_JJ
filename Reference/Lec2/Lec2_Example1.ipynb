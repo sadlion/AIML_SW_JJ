{
 "cells": [
  {
   "cell_type": "markdown",
   "metadata": {
    "id": "5sW5MbgORctc"
   },
   "source": [
    "# Title : 사이킷런을 이용하여 붓꽃(Iris) 데이터 품종 예측하기\n",
    "\n",
    "- 순서\n",
    "  - 라이브러리 호출\n",
    "  - 데이터세트 호출\n",
    "  - *EDA (Exploratory Data Analysis)*\n",
    "  - *Feature Engineering*\n",
    "  - 모델 알고리즘 선택 및 생성, 학습\n",
    "  - 학습 변수 저장\n",
    "  - 학습 변수 호출\n",
    "  - 모델 예측\n",
    "  - *결과 분석*"
   ]
  },
  {
   "cell_type": "code",
   "execution_count": null,
   "metadata": {
    "id": "Z3Tg9frxRX4_"
   },
   "outputs": [],
   "source": [
    "# 라이브러리 호출\n",
    "\n",
    "from sklearn.datasets import load_iris\n",
    "from sklearn.tree import DecisionTreeClassifier\n",
    "from sklearn.model_selection import train_test_split"
   ]
  },
  {
   "cell_type": "code",
   "execution_count": null,
   "metadata": {
    "id": "AdQQFfSsRmlc"
   },
   "outputs": [],
   "source": [
    "# Dataset 호출"
   ]
  },
  {
   "cell_type": "code",
   "execution_count": null,
   "metadata": {
    "id": "yc6Eh8kaRpiJ"
   },
   "outputs": [],
   "source": [
    "# DataFrame 구성"
   ]
  },
  {
   "cell_type": "code",
   "execution_count": null,
   "metadata": {
    "id": "QQDcIlgscYkc"
   },
   "outputs": [],
   "source": [
    "#Data split"
   ]
  },
  {
   "cell_type": "code",
   "execution_count": null,
   "metadata": {
    "id": "Fdm4e0yxR5Y2"
   },
   "outputs": [],
   "source": [
    "# Data shape  확인"
   ]
  },
  {
   "cell_type": "code",
   "execution_count": null,
   "metadata": {
    "id": "AOdDj68tSAUO"
   },
   "outputs": [],
   "source": [
    "#%whos 로 생성된 변수 알아보기"
   ]
  },
  {
   "cell_type": "code",
   "execution_count": null,
   "metadata": {
    "id": "B2xPreciSLD0"
   },
   "outputs": [],
   "source": [
    "#DataFramework info()"
   ]
  },
  {
   "cell_type": "code",
   "execution_count": null,
   "metadata": {
    "id": "0FHavOETSSnB"
   },
   "outputs": [],
   "source": [
    "#DataFramework describe()"
   ]
  },
  {
   "cell_type": "code",
   "execution_count": null,
   "metadata": {
    "id": "t6M4WLGcSaRw"
   },
   "outputs": [],
   "source": [
    "#알고리즘 생성 및 학습\n",
    "#DecisionTreeClassifier 생성 및 학습"
   ]
  },
  {
   "cell_type": "code",
   "execution_count": null,
   "metadata": {
    "id": "k0KcXmLJTIfR"
   },
   "outputs": [],
   "source": [
    "#Save Model\n",
    "#변수 저장\n",
    "#파일 저장"
   ]
  },
  {
   "cell_type": "code",
   "execution_count": null,
   "metadata": {
    "id": "l3NDQjjETMce"
   },
   "outputs": [],
   "source": [
    "#Load Model"
   ]
  },
  {
   "cell_type": "code",
   "execution_count": null,
   "metadata": {
    "id": "rAux5be1Si39"
   },
   "outputs": [],
   "source": [
    "#학습이 완료된 모델에 테스트 테이터로 예측 수행"
   ]
  },
  {
   "cell_type": "code",
   "execution_count": null,
   "metadata": {
    "id": "xrcHEZCPSpV2"
   },
   "outputs": [],
   "source": [
    "#Vizulaization : GraphViz"
   ]
  },
  {
   "cell_type": "code",
   "execution_count": null,
   "metadata": {
    "id": "KMCof6knSznT"
   },
   "outputs": [],
   "source": [
    "#"
   ]
  }
 ],
 "metadata": {
  "colab": {
   "name": "scikit-learn_ML.ipynb",
   "provenance": [],
   "collapsed_sections": [],
   "authorship_tag": "ABX9TyO7/tR7c2ystZPjEkGKJ+Js"
  },
  "kernelspec": {
   "name": "python3",
   "display_name": "Python 3"
  }
 },
 "nbformat": 4,
 "nbformat_minor": 0
}
